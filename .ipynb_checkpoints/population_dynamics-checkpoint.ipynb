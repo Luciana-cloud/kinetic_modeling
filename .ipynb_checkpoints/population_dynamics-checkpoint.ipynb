{
 "cells": [
  {
   "attachments": {},
   "cell_type": "markdown",
   "id": "e099c589-ae2c-4e5e-9fcb-3630d7322247",
   "metadata": {},
   "source": [
    "# Population Dynamics"
   ]
  },
  {
   "cell_type": "markdown",
   "id": "8592b534-4855-4094-8b5c-d96a98858d8c",
   "metadata": {},
   "source": [
    "## Important concepts"
   ]
  },
  {
   "attachments": {},
   "cell_type": "markdown",
   "id": "689d65b5-0e46-4b4e-aec9-bd2cd74c0385",
   "metadata": {},
   "source": [
    "**Population ($N$)**: a group of individuals of one species.\n",
    "\n",
    "**Population Dynamics ($dN/dt$)**: How a population changes over time."
   ]
  },
  {
   "cell_type": "markdown",
   "id": "ea5e61b7-778f-4050-bc2f-fd7755e9b814",
   "metadata": {},
   "source": [
    "## Importance "
   ]
  },
  {
   "cell_type": "markdown",
   "id": "6a776725-770c-42fd-a0da-d99468183163",
   "metadata": {},
   "source": [
    "- Wildlife conservation.\n",
    "- Outbreak control.\n",
    "- Urban planning.\n",
    "- Food production and resource management. "
   ]
  },
  {
   "cell_type": "markdown",
   "id": "e69cac96-a5a6-4372-a5d8-e98226077af4",
   "metadata": {},
   "source": [
    "## Exponential Growth"
   ]
  },
  {
   "cell_type": "markdown",
   "id": "a76f2ca5-35c8-4f5f-b2a5-89a4269713c7",
   "metadata": {},
   "source": [
    "![alt text](exponential_model.png)"
   ]
  },
  {
   "cell_type": "markdown",
   "id": "fb1f2807-93bc-483a-a788-64a5250186e6",
   "metadata": {},
   "source": [
    "### Model assumptions"
   ]
  },
  {
   "cell_type": "markdown",
   "id": "cadfff1b-39c1-47f7-83fe-ca7bc2fa4333",
   "metadata": {},
   "source": [
    "- **Simplest model** to describe the growth of a single population\n",
    "- The population is **homogenous**\n",
    "- The population is **isolated**\n",
    "- The habitat is **invariant**\n",
    "- The population is **very large**"
   ]
  },
  {
   "cell_type": "markdown",
   "id": "4561ed6e-dac3-4e10-a603-8da3d7990f58",
   "metadata": {},
   "source": [
    "### How do we model exponential growth?"
   ]
  },
  {
   "cell_type": "markdown",
   "id": "4c474b64-6015-4878-86ac-b00f512be496",
   "metadata": {},
   "source": [
    "$$\\frac{dN}{dt} = r \\cdot N$$\n",
    "$$N(t) = N_0 \\cdot e^{r \\cdot t}$$"
   ]
  },
  {
   "cell_type": "markdown",
   "id": "68ad7f69-8e64-49c8-bf94-10a2965a8bea",
   "metadata": {},
   "source": [
    "$N_0$ is the initial population; $r$ is the (instantaneous) growth rate; Malthus parameter; biological potential of the population; $t$ is time. "
   ]
  },
  {
   "cell_type": "code",
   "execution_count": 1,
   "id": "e8856acb-c1da-49ad-a765-8c65e5a9fb2f",
   "metadata": {},
   "outputs": [],
   "source": [
    "import ipywidgets\n",
    "import numpy as np\n",
    "from scipy.integrate import odeint\n",
    "import matplotlib.pyplot as plt\n",
    "from IPython.display import display"
   ]
  },
  {
   "cell_type": "code",
   "execution_count": 41,
   "id": "2d7316ac-aaf5-40f1-9617-f00e320697f1",
   "metadata": {},
   "outputs": [
    {
     "data": {
      "application/vnd.jupyter.widget-view+json": {
       "model_id": "39a34b9c42ee4e9dae3c07a179e69d7c",
       "version_major": 2,
       "version_minor": 0
      },
      "text/plain": [
       "interactive(children=(IntSlider(value=51, description='No', min=2), FloatSlider(value=2.5500000000000003, desc…"
      ]
     },
     "metadata": {},
     "output_type": "display_data"
    },
    {
     "data": {
      "text/plain": [
       "<function __main__.model_first(No, r)>"
      ]
     },
     "execution_count": 41,
     "metadata": {},
     "output_type": "execute_result"
    }
   ],
   "source": [
    "def model_first(No,r):\n",
    "    t  = np.linspace(0,5,51)\n",
    "    N = No*np.exp(r*t)\n",
    "    plt.plot(t,N)\n",
    "    plt.ylabel('Population (#)')\n",
    "    plt.xlabel('Time (hours)')\n",
    "    #print(N)\n",
    "    #print(t)\n",
    "\n",
    "ipywidgets.interact(model_first,No=(2,100,1),r=(0.1,5,0.01))"
   ]
  },
  {
   "cell_type": "markdown",
   "id": "c2759ea1-fb8c-4fba-a5ec-3ea697eabc7b",
   "metadata": {},
   "source": [
    "## Exponential Growth with exogenous variability"
   ]
  },
  {
   "cell_type": "markdown",
   "id": "a3cfd445-6321-4419-8e4e-2b938d7c432c",
   "metadata": {},
   "source": [
    "### Model assumptions"
   ]
  },
  {
   "cell_type": "markdown",
   "id": "108a8a0e-cbfe-4f52-88da-fb00c4bf14e9",
   "metadata": {},
   "source": [
    "- The population is not isolated (no immigration nor emigration)."
   ]
  },
  {
   "cell_type": "markdown",
   "id": "5a2a39aa-fe48-4941-b71a-3ae9a3fdcfe9",
   "metadata": {},
   "source": [
    "### How do we model exponential growth with exogenous variability?"
   ]
  },
  {
   "cell_type": "markdown",
   "id": "1626a7de-e5ba-4d27-a91f-7fb917a4114b",
   "metadata": {},
   "source": [
    "$$\\frac{dN}{dt} = r \\cdot N ± m$$\n",
    "$$N(t) = \\left(N_0 + \\frac{m}{r}\\right) \\cdot e^{(r\\cdot t)} - \\frac{m}{r}$$"
   ]
  },
  {
   "cell_type": "markdown",
   "id": "8b342742-66a4-4c2e-8513-05f3dfc35e39",
   "metadata": {},
   "source": [
    "$N_0$ is the initial population; $r$ is the (instantaneous) growth rate; Malthus parameter; biological potential of the population; $t$ is time; $m$ is emigration or immigration.  "
   ]
  },
  {
   "cell_type": "code",
   "execution_count": 44,
   "id": "18547f6d-6dec-46f2-9264-c67aa32202aa",
   "metadata": {},
   "outputs": [
    {
     "data": {
      "application/vnd.jupyter.widget-view+json": {
       "model_id": "81708451c62b41318223784e8fc912a3",
       "version_major": 2,
       "version_minor": 0
      },
      "text/plain": [
       "interactive(children=(IntSlider(value=51, description='No', min=2), FloatSlider(value=2.5500000000000003, desc…"
      ]
     },
     "metadata": {},
     "output_type": "display_data"
    },
    {
     "data": {
      "text/plain": [
       "<function __main__.model_first(No, r, m)>"
      ]
     },
     "execution_count": 44,
     "metadata": {},
     "output_type": "execute_result"
    }
   ],
   "source": [
    "def model_first(No,r,m):\n",
    "    t  = np.linspace(0,5,51)\n",
    "    N = (No+(m/r))*np.exp(r*t)-(m/r)\n",
    "    plt.plot(t,N)\n",
    "    plt.ylabel('Population (#)')\n",
    "    plt.xlabel('Time (hours)')\n",
    "    #print(N)\n",
    "    #print(t)\n",
    "\n",
    "ipywidgets.interact(model_first,No=(2,100,1),r=(0.1,5,0.01),m=(-10,10,1))"
   ]
  },
  {
   "cell_type": "markdown",
   "id": "79c05114-c422-441b-83c4-9cc0391a6f64",
   "metadata": {},
   "source": [
    "## Logistic Model"
   ]
  },
  {
   "cell_type": "markdown",
   "id": "1afe16a4-6506-4e85-a8a4-4cd171de632a",
   "metadata": {},
   "source": [
    "![alt text](logistic_model.png)"
   ]
  },
  {
   "cell_type": "markdown",
   "id": "3afe5871-ade7-4b7e-81f3-85a1202da4bb",
   "metadata": {},
   "source": [
    "### Model assumptions"
   ]
  },
  {
   "cell_type": "markdown",
   "id": "b8a28a0c-78fb-4647-a3e2-d32fead9b5ff",
   "metadata": {},
   "source": [
    "- Population growth is **limited** by factors such as **food** or **space**.\n",
    "- Population grows more slowly as it gets larger (**density-dependent**).\n",
    "- This population size is called the **carrying capacity** “K” (maximum population size that a particular environment can support). "
   ]
  },
  {
   "cell_type": "markdown",
   "id": "de4dff3d-4af0-408a-a16a-d066b4cb7269",
   "metadata": {},
   "source": [
    "### How do we model logistic growth?"
   ]
  },
  {
   "cell_type": "markdown",
   "id": "36af955c-566c-49a8-bc67-f38cb8234800",
   "metadata": {},
   "source": [
    "$$\\frac{dN}{dt} = r \\cdot N ± m$$\n",
    "$$N(t) = \\left(N_0 + \\frac{m}{r}\\right) \\cdot e^{(r\\cdot t)} - \\frac{m}{r}$$"
   ]
  }
 ],
 "metadata": {
  "kernelspec": {
   "display_name": "Python 3 (ipykernel)",
   "language": "python",
   "name": "python3"
  },
  "language_info": {
   "codemirror_mode": {
    "name": "ipython",
    "version": 3
   },
   "file_extension": ".py",
   "mimetype": "text/x-python",
   "name": "python",
   "nbconvert_exporter": "python",
   "pygments_lexer": "ipython3",
   "version": "3.12.0"
  }
 },
 "nbformat": 4,
 "nbformat_minor": 5
}
