{
 "cells": [
  {
   "attachments": {},
   "cell_type": "markdown",
   "id": "e099c589-ae2c-4e5e-9fcb-3630d7322247",
   "metadata": {},
   "source": [
    "# Population Dynamics"
   ]
  },
  {
   "cell_type": "markdown",
   "id": "8592b534-4855-4094-8b5c-d96a98858d8c",
   "metadata": {},
   "source": [
    "## Important concepts"
   ]
  },
  {
   "attachments": {},
   "cell_type": "markdown",
   "id": "689d65b5-0e46-4b4e-aec9-bd2cd74c0385",
   "metadata": {},
   "source": [
    "**Population ($N$)**: a group of individuals of one species.\n",
    "\n",
    "**Population Dynamics ($dN/dt$)**: How a population changes over time."
   ]
  },
  {
   "cell_type": "markdown",
   "id": "e837b794-db70-4bb1-b0b8-649d860e6230",
   "metadata": {},
   "source": [
    "--------------------------------------------------------------------------------------------------------------------------"
   ]
  },
  {
   "cell_type": "markdown",
   "id": "ea5e61b7-778f-4050-bc2f-fd7755e9b814",
   "metadata": {},
   "source": [
    "## Importance "
   ]
  },
  {
   "cell_type": "markdown",
   "id": "6a776725-770c-42fd-a0da-d99468183163",
   "metadata": {},
   "source": [
    "- Wildlife conservation.\n",
    "- Outbreak control.\n",
    "- Urban planning.\n",
    "- Food production and resource management. "
   ]
  },
  {
   "cell_type": "markdown",
   "id": "e5cdbd21-580a-475f-b5ef-967797736c0d",
   "metadata": {},
   "source": [
    "-----------------------------------------------------------------------------------------------------------------------------"
   ]
  },
  {
   "cell_type": "markdown",
   "id": "e69cac96-a5a6-4372-a5d8-e98226077af4",
   "metadata": {},
   "source": [
    "## **Exponential Growth**"
   ]
  },
  {
   "cell_type": "markdown",
   "id": "a76f2ca5-35c8-4f5f-b2a5-89a4269713c7",
   "metadata": {},
   "source": [
    "![alt text](../figures/exponential_model.1.png)"
   ]
  },
  {
   "cell_type": "markdown",
   "id": "fb1f2807-93bc-483a-a788-64a5250186e6",
   "metadata": {},
   "source": [
    "### Model assumptions"
   ]
  },
  {
   "cell_type": "markdown",
   "id": "cadfff1b-39c1-47f7-83fe-ca7bc2fa4333",
   "metadata": {},
   "source": [
    "- **Simplest model** to describe the growth of a single population\n",
    "- The population is **homogenous**\n",
    "- The population is **isolated**\n",
    "- The habitat is **invariant**\n",
    "- The population is **very large**"
   ]
  },
  {
   "cell_type": "markdown",
   "id": "4561ed6e-dac3-4e10-a603-8da3d7990f58",
   "metadata": {},
   "source": [
    "### How do we model exponential growth?"
   ]
  },
  {
   "cell_type": "markdown",
   "id": "4c474b64-6015-4878-86ac-b00f512be496",
   "metadata": {},
   "source": [
    "$$\\frac{dN}{dt} = r \\cdot N$$\n",
    "$$N(t) = N_0 \\cdot e^{r \\cdot t}$$"
   ]
  },
  {
   "cell_type": "markdown",
   "id": "68ad7f69-8e64-49c8-bf94-10a2965a8bea",
   "metadata": {},
   "source": [
    "$N_0$ is the initial population; $r$ is the growth rate; Malthus parameter; $t$ is time. "
   ]
  },
  {
   "cell_type": "code",
   "execution_count": 1,
   "id": "e8856acb-c1da-49ad-a765-8c65e5a9fb2f",
   "metadata": {},
   "outputs": [],
   "source": [
    "import ipywidgets\n",
    "import numpy as np\n",
    "from scipy.integrate import odeint\n",
    "import matplotlib.pyplot as plt\n",
    "from IPython.display import display"
   ]
  },
  {
   "cell_type": "code",
   "execution_count": 2,
   "id": "2d7316ac-aaf5-40f1-9617-f00e320697f1",
   "metadata": {},
   "outputs": [
    {
     "data": {
      "application/vnd.jupyter.widget-view+json": {
       "model_id": "8f9552408a634d1b82497aaca18b5217",
       "version_major": 2,
       "version_minor": 0
      },
      "text/plain": [
       "interactive(children=(IntSlider(value=51, description='No', min=2), FloatSlider(value=2.5500000000000003, desc…"
      ]
     },
     "metadata": {},
     "output_type": "display_data"
    },
    {
     "data": {
      "text/plain": [
       "<function __main__.model_exponential(No, r)>"
      ]
     },
     "execution_count": 2,
     "metadata": {},
     "output_type": "execute_result"
    }
   ],
   "source": [
    "def model_exponential(No,r):\n",
    "    t  = np.linspace(0,5,51)\n",
    "    N = No*np.exp(r*t)\n",
    "    plt.plot(t,N)\n",
    "    plt.ylabel('Population (#)')\n",
    "    plt.xlabel('Time (hours)')\n",
    "    #print(N)\n",
    "    #print(t)\n",
    "\n",
    "ipywidgets.interact(model_exponential,No=(2,100,1),r=(0.1,5,0.01))"
   ]
  },
  {
   "cell_type": "markdown",
   "id": "c2759ea1-fb8c-4fba-a5ec-3ea697eabc7b",
   "metadata": {},
   "source": [
    "## **Exponential Growth with migration**"
   ]
  },
  {
   "cell_type": "markdown",
   "id": "a3cfd445-6321-4419-8e4e-2b938d7c432c",
   "metadata": {},
   "source": [
    "### Model assumptions"
   ]
  },
  {
   "cell_type": "markdown",
   "id": "108a8a0e-cbfe-4f52-88da-fb00c4bf14e9",
   "metadata": {},
   "source": [
    "- The population is not isolated (no immigration nor emigration)."
   ]
  },
  {
   "cell_type": "markdown",
   "id": "5a2a39aa-fe48-4941-b71a-3ae9a3fdcfe9",
   "metadata": {},
   "source": [
    "### How do we model exponential growth with migration?"
   ]
  },
  {
   "cell_type": "markdown",
   "id": "1626a7de-e5ba-4d27-a91f-7fb917a4114b",
   "metadata": {},
   "source": [
    "$$\\frac{dN}{dt} = r \\cdot N ± m$$\n",
    "$$N(t) = \\left(N_0 + \\frac{m}{r}\\right) \\cdot e^{(r\\cdot t)} - \\frac{m}{r}$$"
   ]
  },
  {
   "cell_type": "markdown",
   "id": "8b342742-66a4-4c2e-8513-05f3dfc35e39",
   "metadata": {},
   "source": [
    "$N_0$ is the initial population; $r$ is the growth rate; Malthus parameter; $t$ is time; $m$ is emigration or immigration.  "
   ]
  },
  {
   "cell_type": "code",
   "execution_count": 3,
   "id": "18547f6d-6dec-46f2-9264-c67aa32202aa",
   "metadata": {},
   "outputs": [
    {
     "data": {
      "application/vnd.jupyter.widget-view+json": {
       "model_id": "47cb443a212943d0befd6671097f39f8",
       "version_major": 2,
       "version_minor": 0
      },
      "text/plain": [
       "interactive(children=(IntSlider(value=51, description='No', min=2), FloatSlider(value=2.5500000000000003, desc…"
      ]
     },
     "metadata": {},
     "output_type": "display_data"
    },
    {
     "data": {
      "text/plain": [
       "<function __main__.model_exponential_exo(No, r, m)>"
      ]
     },
     "execution_count": 3,
     "metadata": {},
     "output_type": "execute_result"
    }
   ],
   "source": [
    "def model_exponential_exo(No,r,m):\n",
    "    t  = np.linspace(0,5,51)\n",
    "    N = (No+(m/r))*np.exp(r*t)-(m/r)\n",
    "    plt.plot(t,N)\n",
    "    plt.ylabel('Population (#)')\n",
    "    plt.xlabel('Time (hours)')\n",
    "    #print(N)\n",
    "    #print(t)\n",
    "\n",
    "ipywidgets.interact(model_exponential_exo,No=(2,100,1),r=(0.1,5,0.01),m=(-10,10,1))"
   ]
  },
  {
   "cell_type": "markdown",
   "id": "3855ce45-159f-450e-acb9-7c6f50578173",
   "metadata": {},
   "source": [
    "## **Exercise 1: Determine the growth rate for the following population**"
   ]
  },
  {
   "attachments": {},
   "cell_type": "markdown",
   "id": "87919c22-c055-41c9-8b02-56e4babe5e73",
   "metadata": {},
   "source": [
    "Using an exponential growth model, we can model the US population from 1790 to 2000. The goal of this activity is to determine the appropriate growth rate parameter to model the data plotted in the following table 1:\n",
    "\n",
    "**Table 1**:U.S.A. population (Iannelli, M., & Pugliese, A. (2014))\n",
    "| Year | Individuals (x 1000) |\r\n",
    "|:---------|:--------:|\r\n",
    "|  1790   |  3929   |\r\n",
    "|  1800   |  5308   |\r\n",
    "|  1810   |  7240   |\r\n",
    "|  1820   |  9638   |\r\n",
    "|  1830   |  12861   | \r\n",
    "|  1840   |  17064   |\r\n",
    "|  1850   |  23192   |\r\n",
    "|  1860   |  31443   |\r\n",
    "|  1870   |  38558   |\r\n",
    "|  1880   |  50189   | \r\n",
    "|  1890   |  62980   |\r\n",
    "|  1900   |  76212   |\r\n",
    "|  1910   |  92228   |\r\n",
    "|  1920   |  106021   |\r\n",
    "|  1930   |  123203   | \r\n",
    "|  1940   |  132165   |\r\n",
    "|  1950   |  151326   |\r\n",
    "|  1960   |  179323   |\r\n",
    "|  1970   |  203302   |\r\n",
    "|  1980   |  226456   |\r\n",
    "|  1990   |  255712   |\r\n",
    "|  2000   |  285003   ||  2000   |  285003   |1   | "
   ]
  },
  {
   "cell_type": "code",
   "execution_count": 4,
   "id": "b5894d78-196e-4328-bdd1-c5b038d1c708",
   "metadata": {},
   "outputs": [
    {
     "data": {
      "application/vnd.jupyter.widget-view+json": {
       "model_id": "754dca0ccb1e4a64bb3bead9451281db",
       "version_major": 2,
       "version_minor": 0
      },
      "text/plain": [
       "interactive(children=(FloatSlider(value=0.025, description='r', max=0.05, min=0.001, step=0.001), Output()), _…"
      ]
     },
     "metadata": {},
     "output_type": "display_data"
    },
    {
     "data": {
      "text/plain": [
       "<function __main__.model_US_pop(r)>"
      ]
     },
     "execution_count": 4,
     "metadata": {},
     "output_type": "execute_result"
    }
   ],
   "source": [
    "def model_US_pop(r):\n",
    "    t   = np.linspace(1790,2000,22)\n",
    "    obs = 1000*np.array([3929, 5308, 7240,9638,12861,17064,23192,31443,38558,50189,62980,76212,92228,106021,\n",
    "                         123203,132165,151326,179323,203302,226456,255712,285003])\n",
    "    No  = 3929*1000\n",
    "    N   = No*np.exp(r*(t-1790))\n",
    "    plt.plot(t,N,label=\"Simulations\")\n",
    "    plt.plot(t,obs,\"o\",label=\"Observations\")\n",
    "    plt.ylabel('Population (#)')\n",
    "    plt.xlabel('Time (Years)')\n",
    "    plt.legend()\n",
    "    plt.show()\n",
    "\n",
    "ipywidgets.interact(model_US_pop,r=(0.001,0.050,0.001))"
   ]
  },
  {
   "cell_type": "markdown",
   "id": "282cb555-9474-480b-a3d1-ecf023847139",
   "metadata": {},
   "source": [
    "--------------------------------------------------------------------------------------------------------------------------"
   ]
  },
  {
   "cell_type": "markdown",
   "id": "79c05114-c422-441b-83c4-9cc0391a6f64",
   "metadata": {},
   "source": [
    "## **Logistic Model**"
   ]
  },
  {
   "cell_type": "markdown",
   "id": "1afe16a4-6506-4e85-a8a4-4cd171de632a",
   "metadata": {},
   "source": [
    "![alt text](../figures/logistic_model.1.png)"
   ]
  },
  {
   "cell_type": "markdown",
   "id": "3afe5871-ade7-4b7e-81f3-85a1202da4bb",
   "metadata": {},
   "source": [
    "### Model assumptions"
   ]
  },
  {
   "cell_type": "markdown",
   "id": "b8a28a0c-78fb-4647-a3e2-d32fead9b5ff",
   "metadata": {},
   "source": [
    "- Population growth is **limited** by factors such as **food** or **space**.\n",
    "- Population grows more slowly as it gets larger (**density-dependent**).\n",
    "- This population size is called the **carrying capacity** “K” (maximum population size that a particular environment can support). "
   ]
  },
  {
   "cell_type": "markdown",
   "id": "de4dff3d-4af0-408a-a16a-d066b4cb7269",
   "metadata": {},
   "source": [
    "### How do we model logistic growth?"
   ]
  },
  {
   "cell_type": "markdown",
   "id": "36af955c-566c-49a8-bc67-f38cb8234800",
   "metadata": {},
   "source": [
    "$$\\frac{dN}{dt} = r \\cdot N \\cdot \\left(\\frac{K-N}{K}\\right)$$\n",
    "$$N(t) = \\frac{K \\cdot N_0}{N_0 + (K - N_0) \\cdot e^{(-r\\cdot t)}}$$"
   ]
  },
  {
   "cell_type": "markdown",
   "id": "1279913f-20a3-494c-a8dc-3c4b99efeff1",
   "metadata": {},
   "source": [
    "$N_0$ is the initial population; $r$ is the growth rate; Malthus parameter; $t$ is time; $K$ is the carrying capacity.  "
   ]
  },
  {
   "cell_type": "code",
   "execution_count": 5,
   "id": "70306526-61ae-42cb-8e20-049993151c0f",
   "metadata": {},
   "outputs": [
    {
     "data": {
      "application/vnd.jupyter.widget-view+json": {
       "model_id": "4e4495ba03e14469abd0ad7720d93a04",
       "version_major": 2,
       "version_minor": 0
      },
      "text/plain": [
       "interactive(children=(IntSlider(value=51, description='No', min=2), FloatSlider(value=2.5500000000000003, desc…"
      ]
     },
     "metadata": {},
     "output_type": "display_data"
    },
    {
     "data": {
      "text/plain": [
       "<function __main__.model_logistic(No, r, K)>"
      ]
     },
     "execution_count": 5,
     "metadata": {},
     "output_type": "execute_result"
    }
   ],
   "source": [
    "def model_logistic(No,r,K):\n",
    "    t  = np.linspace(0,100,101)\n",
    "    N = (K*No)/(No+(K-No)*np.exp(-r*t))\n",
    "    plt.plot(t,N)\n",
    "    plt.ylabel('Population (#)')\n",
    "    plt.xlabel('Time (hours)')\n",
    "    #print(N)\n",
    "    #print(t)\n",
    "\n",
    "ipywidgets.interact(model_logistic,No=(2,100,1),r=(0.1,5,0.01),K=(100,100000,100))"
   ]
  },
  {
   "cell_type": "markdown",
   "id": "239796c6-a47e-497f-a4e0-0d471d679d55",
   "metadata": {},
   "source": [
    "-------------------------------------------------------------------------------------------------------------------------"
   ]
  },
  {
   "cell_type": "markdown",
   "id": "16de6900-c155-4e87-acad-1fa5d7cc0470",
   "metadata": {},
   "source": [
    "## **Predator-Prey model**"
   ]
  },
  {
   "cell_type": "markdown",
   "id": "a324e518-555d-48cc-bf71-5d00187b7b2c",
   "metadata": {},
   "source": [
    "### Model assumptions"
   ]
  },
  {
   "cell_type": "markdown",
   "id": "594df6f9-6531-42f5-9825-8e40c87ec266",
   "metadata": {},
   "source": [
    "- Basic mechanism for **two-species dynamics**.\n",
    "- **Predator** species are totally **dependent** on a **single prey** species as a food source.\n",
    "- There is **no threat** to the prey other than the specific predator."
   ]
  },
  {
   "cell_type": "markdown",
   "id": "0275a455-15cf-46d5-a27d-11ff9e981616",
   "metadata": {},
   "source": [
    "![alt text](../figures/prey_predator.1.png)"
   ]
  },
  {
   "cell_type": "markdown",
   "id": "a0e57c55-6c6c-4844-809a-5c28d17cc1d2",
   "metadata": {},
   "source": [
    "### How do we model Predator-Prey dynamics?"
   ]
  },
  {
   "cell_type": "markdown",
   "id": "a35efaf2-bb84-46c5-8d6e-4c4286d6d04c",
   "metadata": {},
   "source": [
    "$$\\frac{dN}{dt} = \\beta_N \\cdot N - \\mu_N \\cdot P \\cdot N$$\n",
    "$$\\frac{dP}{dt} = \\beta_P \\cdot P \\cdot N - \\mu_P \\cdot P$$"
   ]
  },
  {
   "cell_type": "code",
   "execution_count": 67,
   "id": "2e98f40d-6136-4cbc-8fbc-180bb5cee56e",
   "metadata": {},
   "outputs": [
    {
     "data": {
      "image/png": "[encoded data removed]",
      "text/plain": [
       "<Figure size 640x480 with 2 Axes>"
      ]
     },
     "metadata": {},
     "output_type": "display_data"
    },
    {
     "data": {
      "text/plain": [
       "Text(0.5, 0, 'Population (Prey)')"
      ]
     },
     "execution_count": 67,
     "metadata": {},
     "output_type": "execute_result"
    },
    {
     "data": {
      "image/png": "[encoded data removed]",
      "text/plain": [
       "<Figure size 640x480 with 1 Axes>"
      ]
     },
     "metadata": {},
     "output_type": "display_data"
    }
   ],
   "source": [
    "    fig, ax1 = plt.subplots()\n",
    "    ax2 = ax1.twinx()\n",
    "    p  = {\"beta_N\":0.08,\"mu_N\":0.001,\"beta_P\":0.00002,\"mu_P\":0.02} # Parameters\n",
    "    P0 = [1000,40] # Initial population sizes\n",
    "    #plt.figure(2)\n",
    "    def pp_1(P,t,p):\n",
    "        dPdt1 = p[\"beta_N\"]*P[0] - p[\"mu_N\"]*P[0]*P[1]\n",
    "        dPdt2 = p[\"beta_P\"]*P[0]*P[1] - p[\"mu_P\"]*P[1]\n",
    "        dPdt  = [dPdt1,dPdt2]\n",
    "        return dPdt\n",
    "    t  = np.linspace(0,500,2000)\n",
    "    y = odeint(pp_1,P0,t,args=(p,))\n",
    "    ax1.plot(t,y[:,0],label=\"Prey\",color='g')\n",
    "    ax2.plot(t,y[:,1],label=\"Predator\",color='b')\n",
    "    ax1.set_ylabel('Prey', color='g')\n",
    "    ax2.set_ylabel('Predator', color='b')\n",
    "    plt.tight_layout()\n",
    "    plt.show()\n",
    "\n",
    "    plt.plot(y[:,0],y[:,1])\n",
    "    plt.ylabel('Population (Predator)')\n",
    "    plt.xlabel('Population (Prey)')"
   ]
  },
  {
   "cell_type": "code",
   "execution_count": 6,
   "id": "b7bb1ea5-2f6b-4176-b17f-8af019aa0d3f",
   "metadata": {},
   "outputs": [
    {
     "data": {
      "application/vnd.jupyter.widget-view+json": {
       "model_id": "64ab04cd02484bfea38a046dde31c022",
       "version_major": 2,
       "version_minor": 0
      },
      "text/plain": [
       "interactive(children=(FloatSlider(value=0.06999999999999999, description='beta_N', max=0.15, min=0.01, step=0.…"
      ]
     },
     "metadata": {},
     "output_type": "display_data"
    },
    {
     "data": {
      "text/plain": [
       "<function __main__.model_PP(beta_N, mu_N, beta_P, mu_P, N0, P0)>"
      ]
     },
     "execution_count": 6,
     "metadata": {},
     "output_type": "execute_result"
    }
   ],
   "source": [
    "def model_PP(beta_N,mu_N,beta_P,mu_P,N0,P0):\n",
    "    p  = {\"beta_N\":beta_N,\"mu_N\":mu_N,\"beta_P\":beta_P,\"mu_P\":mu_P} # Parameters\n",
    "    P0 = [N0,P0] # Initial population sizes\n",
    "    #plt.figure(2)\n",
    "    def pp_1(P,t,p):\n",
    "        dPdt1 = p[\"beta_N\"]*P[0] - p[\"mu_N\"]*P[0]*P[1]\n",
    "        dPdt2 = p[\"beta_P\"]*P[0]*P[1] - p[\"mu_P\"]*P[1]\n",
    "        dPdt  = [dPdt1,dPdt2]\n",
    "        return dPdt\n",
    "    t  = np.linspace(0,500,2000)\n",
    "    y = odeint(pp_1,P0,t,args=(p,))\n",
    "    plt.plot(t,y[:,0],label=\"Prey\")\n",
    "    plt.plot(t,y[:,1],label=\"Predator\")\n",
    "    plt.ylabel('Population (#)')\n",
    "    plt.xlabel('Time (Years)')\n",
    "    plt.tight_layout()\n",
    "    plt.legend()\n",
    "    plt.show()\n",
    "    \n",
    "ipywidgets.interact(model_PP,beta_N=(0.01,0.15,0.01),mu_N=(0.001,0.01,0.001),beta_P=(0.00001,0.00003,0.00001),mu_P=(0.01,0.05,0.01),N0=(500,1000,50),P0=(5,50,1))"
   ]
  }
 ],
 "metadata": {
  "kernelspec": {
   "display_name": "Python 3 (ipykernel)",
   "language": "python",
   "name": "python3"
  },
  "language_info": {
   "codemirror_mode": {
    "name": "ipython",
    "version": 3
   },
   "file_extension": ".py",
   "mimetype": "text/x-python",
   "name": "python",
   "nbconvert_exporter": "python",
   "pygments_lexer": "ipython3",
   "version": "3.12.0"
  }
 },
 "nbformat": 4,
 "nbformat_minor": 5
}
