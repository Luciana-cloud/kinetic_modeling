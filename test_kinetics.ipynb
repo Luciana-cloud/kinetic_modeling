{
 "cells": [
  {
   "cell_type": "markdown",
   "id": "1caf715e-77ad-4dc6-a380-e0577c2d1d13",
   "metadata": {},
   "source": [
    "# Kinetic models for pesticide degradation"
   ]
  },
  {
   "cell_type": "markdown",
   "id": "30d60ba1-85f1-4c6a-93f1-9d78f1c874a8",
   "metadata": {},
   "source": [
    "## Description of the problem\n",
    "\n",
    "*   Microcosm experiment for pesticide degradation.\n",
    "*   Pesticide concentration measured over time.\n",
    "\n",
    "![alt text](Figure_1.png)"
   ]
  },
  {
   "cell_type": "markdown",
   "id": "b846f983-c1e3-4fea-b3c3-903b31c86b5c",
   "metadata": {},
   "source": [
    "### First-order kinetics:\n",
    "The degradation rate is proportional to the concentration of the pesticide.\n",
    "\n",
    "$$\\frac{dP}{dt} = -k \\cdot P$$\n",
    "\n",
    "Where $P$ is the pesticide concentration and $k$ is the rate of pesticide decay."
   ]
  },
  {
   "cell_type": "code",
   "execution_count": 1,
   "id": "71de1655-2cd5-4c7b-877c-46638ed3e3ac",
   "metadata": {},
   "outputs": [],
   "source": [
    "import ipywidgets\n",
    "import numpy as np\n",
    "from scipy.integrate import odeint\n",
    "import matplotlib.pyplot as plt\n",
    "from IPython.display import display"
   ]
  },
  {
   "cell_type": "code",
   "execution_count": 3,
   "id": "ac3d8fb7-a66b-4e06-8683-44488fb3bae1",
   "metadata": {},
   "outputs": [
    {
     "data": {
      "application/vnd.jupyter.widget-view+json": {
       "model_id": "7307974671c845a4a47ea8ffd730c349",
       "version_major": 2,
       "version_minor": 0
      },
      "text/plain": [
       "interactive(children=(FloatSlider(value=1.25, description='p', max=2.5, min=0.01, step=0.01), IntSlider(value=…"
      ]
     },
     "metadata": {},
     "output_type": "display_data"
    },
    {
     "data": {
      "text/plain": [
       "<function __main__.model_first(p, P0)>"
      ]
     },
     "execution_count": 3,
     "metadata": {},
     "output_type": "execute_result"
    }
   ],
   "source": [
    "def model_first(p,P0):\n",
    "    p = {\"k\":p} # parameters\n",
    "    #plt.figure(2)\n",
    "    def model(P,t,p):\n",
    "        dydt = -p[\"k\"]*P\n",
    "        return dydt\n",
    "    t  = np.linspace(0,20)\n",
    "    y = odeint(model,P0,t,args=(p,))\n",
    "    plt.plot(t,y)\n",
    "    plt.ylabel('Pesticide concentration (P)')\n",
    "    plt.xlabel('Time (t)')\n",
    "\n",
    "ipywidgets.interact(model_first,p=(0.01,2.5,0.01),P0=(50,500,10))"
   ]
  },
  {
   "cell_type": "code",
   "execution_count": null,
   "id": "9c2c4e07-167a-4097-bc16-4523cc23fc3e",
   "metadata": {},
   "outputs": [],
   "source": []
  }
 ],
 "metadata": {
  "kernelspec": {
   "display_name": "Python 3 (ipykernel)",
   "language": "python",
   "name": "python3"
  },
  "language_info": {
   "codemirror_mode": {
    "name": "ipython",
    "version": 3
   },
   "file_extension": ".py",
   "mimetype": "text/x-python",
   "name": "python",
   "nbconvert_exporter": "python",
   "pygments_lexer": "ipython3",
   "version": "3.10.2"
  }
 },
 "nbformat": 4,
 "nbformat_minor": 5
}
