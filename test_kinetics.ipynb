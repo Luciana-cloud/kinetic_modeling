{
 "cells": [
  {
   "cell_type": "markdown",
   "id": "1caf715e-77ad-4dc6-a380-e0577c2d1d13",
   "metadata": {},
   "source": [
    "# Kinetic models for pesticide degradation"
   ]
  },
  {
   "cell_type": "markdown",
   "id": "30d60ba1-85f1-4c6a-93f1-9d78f1c874a8",
   "metadata": {},
   "source": [
    "## Description of the problem\n",
    "\n",
    "*   Microcosm experiment for pesticide degradation.\n",
    "*   Pesticide concentration measured over time.\n",
    "\n",
    "![alt text](Figure_1.png)"
   ]
  },
  {
   "cell_type": "markdown",
   "id": "b846f983-c1e3-4fea-b3c3-903b31c86b5c",
   "metadata": {},
   "source": [
    "### First-order kinetics:\n",
    "The degradation rate is proportional to the concentration of the pesticide.\n",
    "\n",
    "$$\\frac{dP}{dt} = -k \\cdot P$$\n",
    "\n",
    "Where $P$ is the pesticide concentration and $k$ is the rate of pesticide decay."
   ]
  },
  {
   "cell_type": "code",
   "execution_count": 1,
   "id": "71de1655-2cd5-4c7b-877c-46638ed3e3ac",
   "metadata": {},
   "outputs": [],
   "source": [
    "import ipywidgets\n",
    "import numpy as np\n",
    "from scipy.integrate import odeint\n",
    "import matplotlib.pyplot as plt\n",
    "from IPython.display import display"
   ]
  },
  {
   "cell_type": "code",
   "execution_count": 8,
   "id": "ac3d8fb7-a66b-4e06-8683-44488fb3bae1",
   "metadata": {},
   "outputs": [
    {
     "data": {
      "application/vnd.jupyter.widget-view+json": {
       "model_id": "d7ad2365106b4395b2d8c248f793904e",
       "version_major": 2,
       "version_minor": 0
      },
      "text/plain": [
       "interactive(children=(FloatSlider(value=1.25, description='p', max=2.5, min=0.01, step=0.01), IntSlider(value=…"
      ]
     },
     "metadata": {},
     "output_type": "display_data"
    },
    {
     "data": {
      "text/plain": [
       "<function __main__.model_first(p, P0)>"
      ]
     },
     "execution_count": 8,
     "metadata": {},
     "output_type": "execute_result"
    }
   ],
   "source": [
    "def model_first(p,P0):\n",
    "    p = {\"k\":p} # parameters\n",
    "    #plt.figure(2)\n",
    "    def model(P,t,p):\n",
    "        dydt = -p[\"k\"]*P\n",
    "        return dydt\n",
    "    t  = np.linspace(0,20)\n",
    "    y = odeint(model,P0,t,args=(p,))\n",
    "    plt.plot(t,y)\n",
    "    plt.ylabel('Pesticide concentration (P)')\n",
    "    plt.xlabel('Time (t)')\n",
    "\n",
    "ipywidgets.interact(model_first,p=(0.01,2.5,0.01),P0=(50,500,10))"
   ]
  },
  {
   "cell_type": "code",
   "execution_count": 14,
   "id": "893996f8-9c11-4ace-ace9-1bee1de78b06",
   "metadata": {},
   "outputs": [
    {
     "ename": "ModuleNotFoundError",
     "evalue": "No module named 'panel'",
     "output_type": "error",
     "traceback": [
      "\u001b[0;31m---------------------------------------------------------------------------\u001b[0m",
      "\u001b[0;31mModuleNotFoundError\u001b[0m                       Traceback (most recent call last)",
      "Cell \u001b[0;32mIn [14], line 1\u001b[0m\n\u001b[0;32m----> 1\u001b[0m \u001b[38;5;28;01mimport\u001b[39;00m \u001b[38;5;21;01mpanel\u001b[39;00m \u001b[38;5;28;01mas\u001b[39;00m \u001b[38;5;21;01mpn\u001b[39;00m\n\u001b[1;32m      2\u001b[0m pn\u001b[38;5;241m.\u001b[39mextension(\u001b[38;5;124m'\u001b[39m\u001b[38;5;124mtabulator\u001b[39m\u001b[38;5;124m'\u001b[39m)\n",
      "\u001b[0;31mModuleNotFoundError\u001b[0m: No module named 'panel'"
     ]
    }
   ],
   "source": [
    "import panel as pn\n",
    "pn.extension('tabulator')"
   ]
  },
  {
   "cell_type": "code",
   "execution_count": 12,
   "id": "9c2c4e07-167a-4097-bc16-4523cc23fc3e",
   "metadata": {},
   "outputs": [
    {
     "ename": "ModuleNotFoundError",
     "evalue": "No module named 'panel'",
     "output_type": "error",
     "traceback": [
      "\u001b[0;31m---------------------------------------------------------------------------\u001b[0m",
      "\u001b[0;31mModuleNotFoundError\u001b[0m                       Traceback (most recent call last)",
      "Cell \u001b[0;32mIn [12], line 1\u001b[0m\n\u001b[0;32m----> 1\u001b[0m \u001b[38;5;28;01mimport\u001b[39;00m \u001b[38;5;21;01mpanel\u001b[39;00m \u001b[38;5;28;01mas\u001b[39;00m \u001b[38;5;21;01mpn\u001b[39;00m\n\u001b[1;32m      2\u001b[0m \u001b[38;5;66;03m#Layout using Template\u001b[39;00m\n\u001b[1;32m      3\u001b[0m template \u001b[38;5;241m=\u001b[39m pn\u001b[38;5;241m.\u001b[39mtemplate\u001b[38;5;241m.\u001b[39mFastListTemplate(\n\u001b[1;32m      4\u001b[0m     title\u001b[38;5;241m=\u001b[39m\u001b[38;5;124m'\u001b[39m\u001b[38;5;124mKinetic Modeling\u001b[39m\u001b[38;5;124m'\u001b[39m, \n\u001b[1;32m      5\u001b[0m     sidebar\u001b[38;5;241m=\u001b[39m[pn\u001b[38;5;241m.\u001b[39mpane\u001b[38;5;241m.\u001b[39mMarkdown(\u001b[38;5;124m\"\u001b[39m\u001b[38;5;124m# First order kinetics\u001b[39m\u001b[38;5;124m\"\u001b[39m)],\n\u001b[0;32m   (...)\u001b[0m\n\u001b[1;32m      8\u001b[0m     header_background\u001b[38;5;241m=\u001b[39m\u001b[38;5;124m\"\u001b[39m\u001b[38;5;124m#88d8b0\u001b[39m\u001b[38;5;124m\"\u001b[39m,\n\u001b[1;32m      9\u001b[0m )\n",
      "\u001b[0;31mModuleNotFoundError\u001b[0m: No module named 'panel'"
     ]
    }
   ],
   "source": [
    "#Layout using Template\n",
    "template = pn.template.FastListTemplate(\n",
    "    title='Kinetic Modeling', \n",
    "    sidebar=[pn.pane.Markdown(\"# First order kinetics\")],\n",
    "    main=[pn.Row(ipywidgets.interact(model_first,p=(0.01,2.5,0.01),P0=(50,500,10)))],\n",
    "    accent_base_color=\"#88d8b0\",\n",
    "    header_background=\"#88d8b0\",\n",
    ")\n",
    "# template.show()\n",
    "template.servable();"
   ]
  },
  {
   "cell_type": "code",
   "execution_count": null,
   "id": "cf6c4ba2-2a15-4556-80f6-8e5016dc763c",
   "metadata": {},
   "outputs": [],
   "source": []
  }
 ],
 "metadata": {
  "kernelspec": {
   "display_name": "Python 3 (ipykernel)",
   "language": "python",
   "name": "python3"
  },
  "language_info": {
   "codemirror_mode": {
    "name": "ipython",
    "version": 3
   },
   "file_extension": ".py",
   "mimetype": "text/x-python",
   "name": "python",
   "nbconvert_exporter": "python",
   "pygments_lexer": "ipython3",
   "version": "3.10.2"
  }
 },
 "nbformat": 4,
 "nbformat_minor": 5
}
