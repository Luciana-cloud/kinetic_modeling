{
 "cells": [
  {
   "cell_type": "markdown",
   "id": "1caf715e-77ad-4dc6-a380-e0577c2d1d13",
   "metadata": {},
   "source": [
    "# Kinetic models for pesticide degradation"
   ]
  },
  {
   "cell_type": "markdown",
   "id": "30d60ba1-85f1-4c6a-93f1-9d78f1c874a8",
   "metadata": {},
   "source": [
    "## Description of the problem\n",
    "\n",
    "*   Microcosm experiment for pesticide degradation.\n",
    "*   Pesticide concentration measured over time.\n",
    "\n",
    "![alt text](Figure_1a.png)"
   ]
  },
  {
   "cell_type": "markdown",
   "id": "b846f983-c1e3-4fea-b3c3-903b31c86b5c",
   "metadata": {},
   "source": [
    "### First-order kinetics:\n",
    "The degradation rate is proportional to the concentration of the pesticide.\n",
    "\n",
    "$$\\frac{dP}{dt} = -k \\cdot P$$\n",
    "\n",
    "Where $P$ is the pesticide concentration and $k$ is the rate of pesticide decay."
   ]
  },
  {
   "cell_type": "code",
   "execution_count": 1,
   "id": "71de1655-2cd5-4c7b-877c-46638ed3e3ac",
   "metadata": {},
   "outputs": [],
   "source": [
    "import ipywidgets\n",
    "import numpy as np\n",
    "from scipy.integrate import odeint\n",
    "import matplotlib.pyplot as plt\n",
    "from IPython.display import display"
   ]
  },
  {
   "cell_type": "code",
   "execution_count": 2,
   "id": "ac3d8fb7-a66b-4e06-8683-44488fb3bae1",
   "metadata": {},
   "outputs": [
    {
     "data": {
      "application/vnd.jupyter.widget-view+json": {
       "model_id": "c765bc3adbc543338332572d193c6927",
       "version_major": 2,
       "version_minor": 0
      },
      "text/plain": [
       "interactive(children=(FloatSlider(value=1.25, description='p', max=2.5, min=0.01, step=0.01), IntSlider(value=…"
      ]
     },
     "metadata": {},
     "output_type": "display_data"
    },
    {
     "data": {
      "text/plain": [
       "<function __main__.model_first(p, P0)>"
      ]
     },
     "execution_count": 2,
     "metadata": {},
     "output_type": "execute_result"
    }
   ],
   "source": [
    "def model_first(p,P0):\n",
    "    p = {\"k\":p} # parameters\n",
    "    #plt.figure(2)\n",
    "    def model(P,t,p):\n",
    "        dydt = -p[\"k\"]*P\n",
    "        return dydt\n",
    "    t  = np.linspace(0,20,2000)\n",
    "    y = odeint(model,P0,t,args=(p,))\n",
    "    plt.plot(t,y)\n",
    "    plt.ylabel('Pesticide concentration (P)')\n",
    "    plt.xlabel('Time (t)')\n",
    "\n",
    "ipywidgets.interact(model_first,p=(0.01,2.5,0.01),P0=(50,500,10))"
   ]
  },
  {
   "cell_type": "markdown",
   "id": "4203f8a4-46b3-455b-a1f1-62abd3c0a51f",
   "metadata": {},
   "source": [
    "### Michaelis-Menten (Monod) kinetics:\n",
    "Coupled enzyme kinetics with microbial growth because pesticide degradation is mediated by microbial activity.\n",
    "\n",
    "*   Pesticide kinetics: (decay)\n",
    "\n",
    "$$\\frac{dP}{dt} = -\\frac{\\mu_{max}\\cdot B \\cdot P}{K_M + P}$$\n",
    "\n",
    "Where $P$ is the pesticide concentration and $\\mu_{max}$ is the maximum specific growth, $K_M$ is the half saturation constant.\n",
    "\n",
    "*   Microbial kinetics: (growth-death)\n",
    "\n",
    "$$\\frac{dB}{dt} = Y \\cdot \\frac{\\mu_{max}\\cdot B \\cdot P}{K_M + P} - \\alpha \\cdot B$$\n",
    "\n",
    "Where $B$ is the microbial biomass and $Y$ is the growth yield, $\\alpha$ is the death rate."
   ]
  },
  {
   "cell_type": "code",
   "execution_count": 3,
   "id": "f155c5ce-c978-435d-b641-98aa30326099",
   "metadata": {},
   "outputs": [
    {
     "data": {
      "application/vnd.jupyter.widget-view+json": {
       "model_id": "9252554c667842a9894313fd56302398",
       "version_major": 2,
       "version_minor": 0
      },
      "text/plain": [
       "interactive(children=(FloatSlider(value=1.25, description='mu_max', max=2.5, min=0.01, step=0.01), FloatSlider…"
      ]
     },
     "metadata": {},
     "output_type": "display_data"
    },
    {
     "data": {
      "text/plain": [
       "<function __main__.model_MM(mu_max, KM, Y, a, P0, P1)>"
      ]
     },
     "execution_count": 3,
     "metadata": {},
     "output_type": "execute_result"
    }
   ],
   "source": [
    "def model_MM(mu_max,KM,Y,a,P0,P1):\n",
    "    p  = {\"mu_max\":mu_max,\"KM\":KM,\"Y\":Y,\"a\":a} # parameters\n",
    "    P0 = [P0,P1]\n",
    "    #plt.figure(2)\n",
    "    def monod_1(P,t,p):\n",
    "        dPdt1 = -(p[\"mu_max\"]*P[0]*P[1])/(P[0]+p[\"KM\"])\n",
    "        dPdt2 = p[\"Y\"]*(p[\"mu_max\"]*P[0]*P[1])/(P[0]+p[\"KM\"])-p[\"a\"]*P[1]\n",
    "        dPdt  = [dPdt1,dPdt2]\n",
    "        return dPdt\n",
    "    t  = np.linspace(0,20,2000)\n",
    "    y = odeint(monod_1,P0,t,args=(p,))\n",
    "    plt.subplot(1, 2, 1)\n",
    "    plt.plot(t,y[:,0])\n",
    "    plt.ylabel('Pesticide concentration (P)')\n",
    "    plt.xlabel('Time (t)')\n",
    "\n",
    "    plt.subplot(1, 2, 2)\n",
    "    plt.plot(t,y[:,1])\n",
    "    plt.ylabel('Microbial biomass (B)')\n",
    "    plt.xlabel('Time (t)')\n",
    "\n",
    "    plt.tight_layout()\n",
    "\n",
    "ipywidgets.interact(model_MM,mu_max=(0.01,2.5,0.01),KM=(0.01,5.0,0.01),Y=(0.01,1.0,0.01),a=(0.01,2.5,0.01),P0=(50,500,10),P1=(5,50,1))"
   ]
  },
  {
   "cell_type": "markdown",
   "id": "dc522676-6ebe-4172-aa05-90866902082a",
   "metadata": {},
   "source": [
    "### Michaelis-Menten (Monod) kinetics with microbial interactions:\n",
    "Coupled enzyme kinetics with microbial growth because pesticide degradation is mediated by microbial activity. Here we include two populations with the ability to degrade pesticide.\n",
    "\n",
    "*   Pesticide kinetics: (decay)\n",
    "\n",
    "$$\\frac{dP}{dt} = -\\frac{\\mu^1_{max}\\cdot B_1 \\cdot P}{K^1_M + P} - \\frac{\\mu^2_{max}\\cdot B_2 \\cdot P}{K^2_M + P}$$\n",
    "\n",
    "Where $P$ is the pesticide concentration and $\\mu^n_{max}$ is the maximum specific growth, $K^n_M$ is the half saturation constant.\n",
    "\n",
    "*   Microbial kinetics 1: (growth-death)\n",
    "\n",
    "$$\\frac{dB_1}{dt} = Y_1 \\cdot \\frac{\\mu^1_{max}\\cdot B_1 \\cdot P}{K^1_M + P} - \\alpha_1 \\cdot B$$\n",
    "\n",
    "*   Microbial kinetics 2: (growth-death)\n",
    "\n",
    "$$\\frac{dB_2}{dt} = Y_2 \\cdot \\frac{\\mu^2_{max}\\cdot B_2 \\cdot P}{K^2_M + P} - \\alpha_2 \\cdot B$$\n",
    "\n",
    "Where $B_n$ is the microbial biomass and $Y_n$ is the growth yield, $\\alpha_n$ is the death rate."
   ]
  },
  {
   "cell_type": "code",
   "execution_count": 4,
   "id": "a960c40f-701f-4640-9614-d6e0507e692d",
   "metadata": {},
   "outputs": [
    {
     "data": {
      "application/vnd.jupyter.widget-view+json": {
       "model_id": "b8f0668a795a490c83443fa45bf99b48",
       "version_major": 2,
       "version_minor": 0
      },
      "text/plain": [
       "interactive(children=(FloatSlider(value=1.25, description='mu_max_1', max=2.5, min=0.01, step=0.01), FloatSlid…"
      ]
     },
     "metadata": {},
     "output_type": "display_data"
    },
    {
     "data": {
      "text/plain": [
       "<function __main__.model_MM_2(mu_max_1, KM_1, Y_1, a_1, mu_max_2, KM_2, Y_2, a_2, P0, P1, P2)>"
      ]
     },
     "execution_count": 4,
     "metadata": {},
     "output_type": "execute_result"
    }
   ],
   "source": [
    "def model_MM_2(mu_max_1,KM_1,Y_1,a_1,mu_max_2,KM_2,Y_2,a_2,P0,P1,P2):\n",
    "    p = {\"mu^1_max\":mu_max_1,\"KM_1\":KM_1,\"Y_1\":Y_1,\"a_1\":a_1,\n",
    "         \"mu^2_max\":mu_max_2,\"KM_2\":KM_2,\"Y_2\":Y_2,\"a_2\":a_2} # parameters\n",
    "    P0 = [P0,P1,P2]\n",
    "    #plt.figure(2)\n",
    "    def monod_2(P,t,p):\n",
    "        dPdt1 = -(p[\"mu^1_max\"]*P[0]*P[1])/(P[0]+p[\"KM_1\"])-(p[\"mu^2_max\"]*P[0]*P[2])/(P[0]+p[\"KM_2\"])\n",
    "        dPdt2 = p[\"Y_1\"]*(p[\"mu^1_max\"]*P[0]*P[1])/(P[0]+p[\"KM_1\"])-p[\"a_1\"]*P[1]\n",
    "        dPdt3 = p[\"Y_2\"]*(p[\"mu^2_max\"]*P[0]*P[2])/(P[0]+p[\"KM_2\"])-p[\"a_2\"]*P[2]\n",
    "        dPdt  = [dPdt1,dPdt2,dPdt3]\n",
    "        return dPdt\n",
    "    t  = np.linspace(0,20,2000)\n",
    "    y = odeint(monod_2,P0,t,args=(p,))\n",
    "    plt.subplot(1, 2, 1)\n",
    "    plt.plot(t,y[:,0])\n",
    "    plt.ylabel('Pesticide concentration (P)')\n",
    "    plt.xlabel('Time (t)')\n",
    "\n",
    "    plt.subplot(1, 2, 2)\n",
    "    plt.plot(t,y[:,1],label=\"B1\")\n",
    "    plt.plot(t,y[:,2],label=\"B2\")\n",
    "    plt.ylabel('Microbial biomass (B)')\n",
    "    plt.xlabel('Time (t)')\n",
    "    plt.legend()\n",
    "\n",
    "    plt.tight_layout()\n",
    "\n",
    "ipywidgets.interact(model_MM_2,mu_max_1=(0.01,2.5,0.01),KM_1=(0.01,5.0,0.01),Y_1=(0.01,1.0,0.01),a_1=(0.01,2.5,0.01),\n",
    "                    mu_max_2=(0.01,2.5,0.01),KM_2=(0.01,5.0,0.01),Y_2=(0.01,1.0,0.01),a_2=(0.01,2.5,0.01),\n",
    "                    P0=(50,500,10),P1=(5,50,1),P2=(5,50,1))"
   ]
  }
 ],
 "metadata": {
  "kernelspec": {
   "display_name": "Python 3 (ipykernel)",
   "language": "python",
   "name": "python3"
  },
  "language_info": {
   "codemirror_mode": {
    "name": "ipython",
    "version": 3
   },
   "file_extension": ".py",
   "mimetype": "text/x-python",
   "name": "python",
   "nbconvert_exporter": "python",
   "pygments_lexer": "ipython3",
   "version": "3.10.2"
  }
 },
 "nbformat": 4,
 "nbformat_minor": 5
}
